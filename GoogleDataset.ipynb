{
  "nbformat": 4,
  "nbformat_minor": 0,
  "metadata": {
    "colab": {
      "provenance": [],
      "toc_visible": true,
      "authorship_tag": "ABX9TyNmVZnzdfhl1M+pndzm/QPG",
      "include_colab_link": true
    },
    "kernelspec": {
      "name": "python3",
      "display_name": "Python 3"
    },
    "language_info": {
      "name": "python"
    }
  },
  "cells": [
    {
      "cell_type": "markdown",
      "metadata": {
        "id": "view-in-github",
        "colab_type": "text"
      },
      "source": [
        "<a href=\"https://colab.research.google.com/github/Nikhil5566/EDA-Prostate-cancer-dataset-/blob/main/GoogleDataset.ipynb\" target=\"_parent\"><img src=\"https://colab.research.google.com/assets/colab-badge.svg\" alt=\"Open In Colab\"/></a>"
      ]
    },
    {
      "cell_type": "code",
      "execution_count": 6,
      "metadata": {
        "id": "MxUjXbXIhRCE"
      },
      "outputs": [],
      "source": [
        "fileName = './googleDataset.csv'"
      ]
    },
    {
      "cell_type": "code",
      "source": [
        "import pandas as pd\n",
        "import numpy as np\n",
        "import matplotlib.pyplot as plt\n",
        "import seaborn as sns"
      ],
      "metadata": {
        "id": "DKOOf-qaiGyk"
      },
      "execution_count": 27,
      "outputs": []
    },
    {
      "cell_type": "code",
      "source": [
        "df = pd.read_csv(fileName)\n",
        "df.head(10)"
      ],
      "metadata": {
        "colab": {
          "base_uri": "https://localhost:8080/",
          "height": 363
        },
        "id": "GmvKiCcIiKWi",
        "outputId": "f0d60f9e-5b83-4039-f241-00b61e129411"
      },
      "execution_count": 10,
      "outputs": [
        {
          "output_type": "execute_result",
          "data": {
            "text/plain": [
              "                       Price    Adj Close        Close         High  \\\n",
              "0                     Ticker        GOOGL        GOOGL        GOOGL   \n",
              "1                       Date          NaN          NaN          NaN   \n",
              "2  2020-01-02 00:00:00+00:00  68.18682098  68.43399811  68.43399811   \n",
              "3  2020-01-03 00:00:00+00:00  67.83010101   68.0759964      68.6875   \n",
              "4  2020-01-06 00:00:00+00:00  69.63805389  69.89050293  69.91600037   \n",
              "5  2020-01-07 00:00:00+00:00  69.50354767  69.75550079  70.17500305   \n",
              "6  2020-01-08 00:00:00+00:00  69.99825287   70.2519989  70.59249878   \n",
              "7  2020-01-09 00:00:00+00:00  70.73309326  70.98950195  71.43399811   \n",
              "8  2020-01-10 00:00:00+00:00  71.18992615  71.44799805  71.74700165   \n",
              "9  2020-01-13 00:00:00+00:00  71.74143219  72.00150299   72.0739975   \n",
              "\n",
              "           Low         Open    Volume  \n",
              "0        GOOGL        GOOGL     GOOGL  \n",
              "1          NaN          NaN       NaN  \n",
              "2  67.32450104  67.42050171  27278000  \n",
              "3  67.36599731  67.40000153  23408000  \n",
              "4  67.55000305  67.58149719  46768000  \n",
              "5  69.57800293  70.02300262  34330000  \n",
              "6  69.63150024  69.74099731  35314000  \n",
              "7  70.51049805  71.09649658  33200000  \n",
              "8  70.98000336  71.47350311  26258000  \n",
              "9  71.26850128  71.76249695  30730000  "
            ],
            "text/html": [
              "\n",
              "  <div id=\"df-73d680d8-3abf-4507-9c2b-7cb44f14e8aa\" class=\"colab-df-container\">\n",
              "    <div>\n",
              "<style scoped>\n",
              "    .dataframe tbody tr th:only-of-type {\n",
              "        vertical-align: middle;\n",
              "    }\n",
              "\n",
              "    .dataframe tbody tr th {\n",
              "        vertical-align: top;\n",
              "    }\n",
              "\n",
              "    .dataframe thead th {\n",
              "        text-align: right;\n",
              "    }\n",
              "</style>\n",
              "<table border=\"1\" class=\"dataframe\">\n",
              "  <thead>\n",
              "    <tr style=\"text-align: right;\">\n",
              "      <th></th>\n",
              "      <th>Price</th>\n",
              "      <th>Adj Close</th>\n",
              "      <th>Close</th>\n",
              "      <th>High</th>\n",
              "      <th>Low</th>\n",
              "      <th>Open</th>\n",
              "      <th>Volume</th>\n",
              "    </tr>\n",
              "  </thead>\n",
              "  <tbody>\n",
              "    <tr>\n",
              "      <th>0</th>\n",
              "      <td>Ticker</td>\n",
              "      <td>GOOGL</td>\n",
              "      <td>GOOGL</td>\n",
              "      <td>GOOGL</td>\n",
              "      <td>GOOGL</td>\n",
              "      <td>GOOGL</td>\n",
              "      <td>GOOGL</td>\n",
              "    </tr>\n",
              "    <tr>\n",
              "      <th>1</th>\n",
              "      <td>Date</td>\n",
              "      <td>NaN</td>\n",
              "      <td>NaN</td>\n",
              "      <td>NaN</td>\n",
              "      <td>NaN</td>\n",
              "      <td>NaN</td>\n",
              "      <td>NaN</td>\n",
              "    </tr>\n",
              "    <tr>\n",
              "      <th>2</th>\n",
              "      <td>2020-01-02 00:00:00+00:00</td>\n",
              "      <td>68.18682098</td>\n",
              "      <td>68.43399811</td>\n",
              "      <td>68.43399811</td>\n",
              "      <td>67.32450104</td>\n",
              "      <td>67.42050171</td>\n",
              "      <td>27278000</td>\n",
              "    </tr>\n",
              "    <tr>\n",
              "      <th>3</th>\n",
              "      <td>2020-01-03 00:00:00+00:00</td>\n",
              "      <td>67.83010101</td>\n",
              "      <td>68.0759964</td>\n",
              "      <td>68.6875</td>\n",
              "      <td>67.36599731</td>\n",
              "      <td>67.40000153</td>\n",
              "      <td>23408000</td>\n",
              "    </tr>\n",
              "    <tr>\n",
              "      <th>4</th>\n",
              "      <td>2020-01-06 00:00:00+00:00</td>\n",
              "      <td>69.63805389</td>\n",
              "      <td>69.89050293</td>\n",
              "      <td>69.91600037</td>\n",
              "      <td>67.55000305</td>\n",
              "      <td>67.58149719</td>\n",
              "      <td>46768000</td>\n",
              "    </tr>\n",
              "    <tr>\n",
              "      <th>5</th>\n",
              "      <td>2020-01-07 00:00:00+00:00</td>\n",
              "      <td>69.50354767</td>\n",
              "      <td>69.75550079</td>\n",
              "      <td>70.17500305</td>\n",
              "      <td>69.57800293</td>\n",
              "      <td>70.02300262</td>\n",
              "      <td>34330000</td>\n",
              "    </tr>\n",
              "    <tr>\n",
              "      <th>6</th>\n",
              "      <td>2020-01-08 00:00:00+00:00</td>\n",
              "      <td>69.99825287</td>\n",
              "      <td>70.2519989</td>\n",
              "      <td>70.59249878</td>\n",
              "      <td>69.63150024</td>\n",
              "      <td>69.74099731</td>\n",
              "      <td>35314000</td>\n",
              "    </tr>\n",
              "    <tr>\n",
              "      <th>7</th>\n",
              "      <td>2020-01-09 00:00:00+00:00</td>\n",
              "      <td>70.73309326</td>\n",
              "      <td>70.98950195</td>\n",
              "      <td>71.43399811</td>\n",
              "      <td>70.51049805</td>\n",
              "      <td>71.09649658</td>\n",
              "      <td>33200000</td>\n",
              "    </tr>\n",
              "    <tr>\n",
              "      <th>8</th>\n",
              "      <td>2020-01-10 00:00:00+00:00</td>\n",
              "      <td>71.18992615</td>\n",
              "      <td>71.44799805</td>\n",
              "      <td>71.74700165</td>\n",
              "      <td>70.98000336</td>\n",
              "      <td>71.47350311</td>\n",
              "      <td>26258000</td>\n",
              "    </tr>\n",
              "    <tr>\n",
              "      <th>9</th>\n",
              "      <td>2020-01-13 00:00:00+00:00</td>\n",
              "      <td>71.74143219</td>\n",
              "      <td>72.00150299</td>\n",
              "      <td>72.0739975</td>\n",
              "      <td>71.26850128</td>\n",
              "      <td>71.76249695</td>\n",
              "      <td>30730000</td>\n",
              "    </tr>\n",
              "  </tbody>\n",
              "</table>\n",
              "</div>\n",
              "    <div class=\"colab-df-buttons\">\n",
              "\n",
              "  <div class=\"colab-df-container\">\n",
              "    <button class=\"colab-df-convert\" onclick=\"convertToInteractive('df-73d680d8-3abf-4507-9c2b-7cb44f14e8aa')\"\n",
              "            title=\"Convert this dataframe to an interactive table.\"\n",
              "            style=\"display:none;\">\n",
              "\n",
              "  <svg xmlns=\"http://www.w3.org/2000/svg\" height=\"24px\" viewBox=\"0 -960 960 960\">\n",
              "    <path d=\"M120-120v-720h720v720H120Zm60-500h600v-160H180v160Zm220 220h160v-160H400v160Zm0 220h160v-160H400v160ZM180-400h160v-160H180v160Zm440 0h160v-160H620v160ZM180-180h160v-160H180v160Zm440 0h160v-160H620v160Z\"/>\n",
              "  </svg>\n",
              "    </button>\n",
              "\n",
              "  <style>\n",
              "    .colab-df-container {\n",
              "      display:flex;\n",
              "      gap: 12px;\n",
              "    }\n",
              "\n",
              "    .colab-df-convert {\n",
              "      background-color: #E8F0FE;\n",
              "      border: none;\n",
              "      border-radius: 50%;\n",
              "      cursor: pointer;\n",
              "      display: none;\n",
              "      fill: #1967D2;\n",
              "      height: 32px;\n",
              "      padding: 0 0 0 0;\n",
              "      width: 32px;\n",
              "    }\n",
              "\n",
              "    .colab-df-convert:hover {\n",
              "      background-color: #E2EBFA;\n",
              "      box-shadow: 0px 1px 2px rgba(60, 64, 67, 0.3), 0px 1px 3px 1px rgba(60, 64, 67, 0.15);\n",
              "      fill: #174EA6;\n",
              "    }\n",
              "\n",
              "    .colab-df-buttons div {\n",
              "      margin-bottom: 4px;\n",
              "    }\n",
              "\n",
              "    [theme=dark] .colab-df-convert {\n",
              "      background-color: #3B4455;\n",
              "      fill: #D2E3FC;\n",
              "    }\n",
              "\n",
              "    [theme=dark] .colab-df-convert:hover {\n",
              "      background-color: #434B5C;\n",
              "      box-shadow: 0px 1px 3px 1px rgba(0, 0, 0, 0.15);\n",
              "      filter: drop-shadow(0px 1px 2px rgba(0, 0, 0, 0.3));\n",
              "      fill: #FFFFFF;\n",
              "    }\n",
              "  </style>\n",
              "\n",
              "    <script>\n",
              "      const buttonEl =\n",
              "        document.querySelector('#df-73d680d8-3abf-4507-9c2b-7cb44f14e8aa button.colab-df-convert');\n",
              "      buttonEl.style.display =\n",
              "        google.colab.kernel.accessAllowed ? 'block' : 'none';\n",
              "\n",
              "      async function convertToInteractive(key) {\n",
              "        const element = document.querySelector('#df-73d680d8-3abf-4507-9c2b-7cb44f14e8aa');\n",
              "        const dataTable =\n",
              "          await google.colab.kernel.invokeFunction('convertToInteractive',\n",
              "                                                    [key], {});\n",
              "        if (!dataTable) return;\n",
              "\n",
              "        const docLinkHtml = 'Like what you see? Visit the ' +\n",
              "          '<a target=\"_blank\" href=https://colab.research.google.com/notebooks/data_table.ipynb>data table notebook</a>'\n",
              "          + ' to learn more about interactive tables.';\n",
              "        element.innerHTML = '';\n",
              "        dataTable['output_type'] = 'display_data';\n",
              "        await google.colab.output.renderOutput(dataTable, element);\n",
              "        const docLink = document.createElement('div');\n",
              "        docLink.innerHTML = docLinkHtml;\n",
              "        element.appendChild(docLink);\n",
              "      }\n",
              "    </script>\n",
              "  </div>\n",
              "\n",
              "\n",
              "<div id=\"df-271be0e4-f959-451d-a027-794c11d22c3a\">\n",
              "  <button class=\"colab-df-quickchart\" onclick=\"quickchart('df-271be0e4-f959-451d-a027-794c11d22c3a')\"\n",
              "            title=\"Suggest charts\"\n",
              "            style=\"display:none;\">\n",
              "\n",
              "<svg xmlns=\"http://www.w3.org/2000/svg\" height=\"24px\"viewBox=\"0 0 24 24\"\n",
              "     width=\"24px\">\n",
              "    <g>\n",
              "        <path d=\"M19 3H5c-1.1 0-2 .9-2 2v14c0 1.1.9 2 2 2h14c1.1 0 2-.9 2-2V5c0-1.1-.9-2-2-2zM9 17H7v-7h2v7zm4 0h-2V7h2v10zm4 0h-2v-4h2v4z\"/>\n",
              "    </g>\n",
              "</svg>\n",
              "  </button>\n",
              "\n",
              "<style>\n",
              "  .colab-df-quickchart {\n",
              "      --bg-color: #E8F0FE;\n",
              "      --fill-color: #1967D2;\n",
              "      --hover-bg-color: #E2EBFA;\n",
              "      --hover-fill-color: #174EA6;\n",
              "      --disabled-fill-color: #AAA;\n",
              "      --disabled-bg-color: #DDD;\n",
              "  }\n",
              "\n",
              "  [theme=dark] .colab-df-quickchart {\n",
              "      --bg-color: #3B4455;\n",
              "      --fill-color: #D2E3FC;\n",
              "      --hover-bg-color: #434B5C;\n",
              "      --hover-fill-color: #FFFFFF;\n",
              "      --disabled-bg-color: #3B4455;\n",
              "      --disabled-fill-color: #666;\n",
              "  }\n",
              "\n",
              "  .colab-df-quickchart {\n",
              "    background-color: var(--bg-color);\n",
              "    border: none;\n",
              "    border-radius: 50%;\n",
              "    cursor: pointer;\n",
              "    display: none;\n",
              "    fill: var(--fill-color);\n",
              "    height: 32px;\n",
              "    padding: 0;\n",
              "    width: 32px;\n",
              "  }\n",
              "\n",
              "  .colab-df-quickchart:hover {\n",
              "    background-color: var(--hover-bg-color);\n",
              "    box-shadow: 0 1px 2px rgba(60, 64, 67, 0.3), 0 1px 3px 1px rgba(60, 64, 67, 0.15);\n",
              "    fill: var(--button-hover-fill-color);\n",
              "  }\n",
              "\n",
              "  .colab-df-quickchart-complete:disabled,\n",
              "  .colab-df-quickchart-complete:disabled:hover {\n",
              "    background-color: var(--disabled-bg-color);\n",
              "    fill: var(--disabled-fill-color);\n",
              "    box-shadow: none;\n",
              "  }\n",
              "\n",
              "  .colab-df-spinner {\n",
              "    border: 2px solid var(--fill-color);\n",
              "    border-color: transparent;\n",
              "    border-bottom-color: var(--fill-color);\n",
              "    animation:\n",
              "      spin 1s steps(1) infinite;\n",
              "  }\n",
              "\n",
              "  @keyframes spin {\n",
              "    0% {\n",
              "      border-color: transparent;\n",
              "      border-bottom-color: var(--fill-color);\n",
              "      border-left-color: var(--fill-color);\n",
              "    }\n",
              "    20% {\n",
              "      border-color: transparent;\n",
              "      border-left-color: var(--fill-color);\n",
              "      border-top-color: var(--fill-color);\n",
              "    }\n",
              "    30% {\n",
              "      border-color: transparent;\n",
              "      border-left-color: var(--fill-color);\n",
              "      border-top-color: var(--fill-color);\n",
              "      border-right-color: var(--fill-color);\n",
              "    }\n",
              "    40% {\n",
              "      border-color: transparent;\n",
              "      border-right-color: var(--fill-color);\n",
              "      border-top-color: var(--fill-color);\n",
              "    }\n",
              "    60% {\n",
              "      border-color: transparent;\n",
              "      border-right-color: var(--fill-color);\n",
              "    }\n",
              "    80% {\n",
              "      border-color: transparent;\n",
              "      border-right-color: var(--fill-color);\n",
              "      border-bottom-color: var(--fill-color);\n",
              "    }\n",
              "    90% {\n",
              "      border-color: transparent;\n",
              "      border-bottom-color: var(--fill-color);\n",
              "    }\n",
              "  }\n",
              "</style>\n",
              "\n",
              "  <script>\n",
              "    async function quickchart(key) {\n",
              "      const quickchartButtonEl =\n",
              "        document.querySelector('#' + key + ' button');\n",
              "      quickchartButtonEl.disabled = true;  // To prevent multiple clicks.\n",
              "      quickchartButtonEl.classList.add('colab-df-spinner');\n",
              "      try {\n",
              "        const charts = await google.colab.kernel.invokeFunction(\n",
              "            'suggestCharts', [key], {});\n",
              "      } catch (error) {\n",
              "        console.error('Error during call to suggestCharts:', error);\n",
              "      }\n",
              "      quickchartButtonEl.classList.remove('colab-df-spinner');\n",
              "      quickchartButtonEl.classList.add('colab-df-quickchart-complete');\n",
              "    }\n",
              "    (() => {\n",
              "      let quickchartButtonEl =\n",
              "        document.querySelector('#df-271be0e4-f959-451d-a027-794c11d22c3a button');\n",
              "      quickchartButtonEl.style.display =\n",
              "        google.colab.kernel.accessAllowed ? 'block' : 'none';\n",
              "    })();\n",
              "  </script>\n",
              "</div>\n",
              "\n",
              "    </div>\n",
              "  </div>\n"
            ],
            "application/vnd.google.colaboratory.intrinsic+json": {
              "type": "dataframe",
              "variable_name": "df",
              "summary": "{\n  \"name\": \"df\",\n  \"rows\": 1260,\n  \"fields\": [\n    {\n      \"column\": \"Price\",\n      \"properties\": {\n        \"dtype\": \"string\",\n        \"num_unique_values\": 1260,\n        \"samples\": [\n          \"2020-04-20 00:00:00+00:00\",\n          \"2024-01-29 00:00:00+00:00\",\n          \"2020-03-03 00:00:00+00:00\"\n        ],\n        \"semantic_type\": \"\",\n        \"description\": \"\"\n      }\n    },\n    {\n      \"column\": \"Adj Close\",\n      \"properties\": {\n        \"dtype\": \"string\",\n        \"num_unique_values\": 1240,\n        \"samples\": [\n          \"141.5658112\",\n          \"86.55771637\",\n          \"117.5259705\"\n        ],\n        \"semantic_type\": \"\",\n        \"description\": \"\"\n      }\n    },\n    {\n      \"column\": \"Close\",\n      \"properties\": {\n        \"dtype\": \"string\",\n        \"num_unique_values\": 1236,\n        \"samples\": [\n          \"103.223999\",\n          \"113.2630005\",\n          \"178.3500061\"\n        ],\n        \"semantic_type\": \"\",\n        \"description\": \"\"\n      }\n    },\n    {\n      \"column\": \"High\",\n      \"properties\": {\n        \"dtype\": \"string\",\n        \"num_unique_values\": 1224,\n        \"samples\": [\n          \"115.6299973\",\n          \"88.24900055\",\n          \"75.58350372\"\n        ],\n        \"semantic_type\": \"\",\n        \"description\": \"\"\n      }\n    },\n    {\n      \"column\": \"Low\",\n      \"properties\": {\n        \"dtype\": \"string\",\n        \"num_unique_values\": 1229,\n        \"samples\": [\n          \"129.9004974\",\n          \"168.4400024\",\n          \"85.28900146\"\n        ],\n        \"semantic_type\": \"\",\n        \"description\": \"\"\n      }\n    },\n    {\n      \"column\": \"Open\",\n      \"properties\": {\n        \"dtype\": \"string\",\n        \"num_unique_values\": 1221,\n        \"samples\": [\n          \"136.0099945\",\n          \"87.4434967\",\n          \"67.94799805\"\n        ],\n        \"semantic_type\": \"\",\n        \"description\": \"\"\n      }\n    },\n    {\n      \"column\": \"Volume\",\n      \"properties\": {\n        \"dtype\": \"string\",\n        \"num_unique_values\": 1252,\n        \"samples\": [\n          \"26052600\",\n          \"34817500\",\n          \"31113000\"\n        ],\n        \"semantic_type\": \"\",\n        \"description\": \"\"\n      }\n    }\n  ]\n}"
            }
          },
          "metadata": {},
          "execution_count": 10
        }
      ]
    },
    {
      "cell_type": "markdown",
      "source": [
        "EDA"
      ],
      "metadata": {
        "id": "mD2QwfbTife6"
      }
    },
    {
      "cell_type": "code",
      "source": [
        "# Displaying the columns:\n",
        "df.columns"
      ],
      "metadata": {
        "colab": {
          "base_uri": "https://localhost:8080/"
        },
        "id": "pukeqJGIigVD",
        "outputId": "6b38c35d-5322-4aa1-f47c-e86017fddba2"
      },
      "execution_count": 12,
      "outputs": [
        {
          "output_type": "execute_result",
          "data": {
            "text/plain": [
              "Index(['Price', 'Adj Close', 'Close', 'High', 'Low', 'Open', 'Volume'], dtype='object')"
            ]
          },
          "metadata": {},
          "execution_count": 12
        }
      ]
    },
    {
      "cell_type": "code",
      "source": [
        "# Displaying the information:\n",
        "df.info()"
      ],
      "metadata": {
        "colab": {
          "base_uri": "https://localhost:8080/"
        },
        "id": "GcevJpLYiMCx",
        "outputId": "a952c4d7-e976-429c-ee51-02f76f46afaf"
      },
      "execution_count": 13,
      "outputs": [
        {
          "output_type": "stream",
          "name": "stdout",
          "text": [
            "<class 'pandas.core.frame.DataFrame'>\n",
            "RangeIndex: 1260 entries, 0 to 1259\n",
            "Data columns (total 7 columns):\n",
            " #   Column     Non-Null Count  Dtype \n",
            "---  ------     --------------  ----- \n",
            " 0   Price      1260 non-null   object\n",
            " 1   Adj Close  1259 non-null   object\n",
            " 2   Close      1259 non-null   object\n",
            " 3   High       1259 non-null   object\n",
            " 4   Low        1259 non-null   object\n",
            " 5   Open       1259 non-null   object\n",
            " 6   Volume     1259 non-null   object\n",
            "dtypes: object(7)\n",
            "memory usage: 69.0+ KB\n"
          ]
        }
      ]
    },
    {
      "cell_type": "code",
      "source": [
        "# Description\n",
        "print(df.describe())"
      ],
      "metadata": {
        "colab": {
          "base_uri": "https://localhost:8080/"
        },
        "id": "ePk2orCjivN7",
        "outputId": "61cf0e0d-eb1f-4ec0-ff5f-d290f71f0fc6"
      },
      "execution_count": 14,
      "outputs": [
        {
          "output_type": "stream",
          "name": "stdout",
          "text": [
            "         Price    Adj Close        Close         High          Low   Open  \\\n",
            "count     1260         1259         1259         1259         1259   1259   \n",
            "unique    1260         1240         1236         1224         1229   1221   \n",
            "top     Ticker  105.5872421  105.9700012  142.0800018  70.13400269  138.5   \n",
            "freq         1            3            3            3            2      3   \n",
            "\n",
            "          Volume  \n",
            "count       1259  \n",
            "unique      1252  \n",
            "top     22288000  \n",
            "freq           3  \n"
          ]
        }
      ]
    },
    {
      "cell_type": "code",
      "source": [
        "# Displaying the rows and columns\n",
        "print(df.shape)"
      ],
      "metadata": {
        "colab": {
          "base_uri": "https://localhost:8080/"
        },
        "id": "YUPTkAT7i2sH",
        "outputId": "96156e9e-10c0-4e88-82df-ba519f95135e"
      },
      "execution_count": 16,
      "outputs": [
        {
          "output_type": "stream",
          "name": "stdout",
          "text": [
            "(1260, 7)\n"
          ]
        }
      ]
    },
    {
      "cell_type": "code",
      "source": [
        "# Displaying the type of data\n",
        "print(df.dtypes)"
      ],
      "metadata": {
        "colab": {
          "base_uri": "https://localhost:8080/"
        },
        "id": "92x9FOvOi7bW",
        "outputId": "87c08c75-c2e0-4a35-bca6-717dcb6e01f0"
      },
      "execution_count": 17,
      "outputs": [
        {
          "output_type": "stream",
          "name": "stdout",
          "text": [
            "Price        object\n",
            "Adj Close    object\n",
            "Close        object\n",
            "High         object\n",
            "Low          object\n",
            "Open         object\n",
            "Volume       object\n",
            "dtype: object\n"
          ]
        }
      ]
    },
    {
      "cell_type": "markdown",
      "source": [
        "2. Data Preparation"
      ],
      "metadata": {
        "id": "VGqWAz-DkF4C"
      }
    },
    {
      "cell_type": "markdown",
      "source": [
        "Checking for the missing & duplicate values:"
      ],
      "metadata": {
        "id": "kb4gBqQCkKJz"
      }
    },
    {
      "cell_type": "code",
      "source": [
        "# missing values:\n",
        "missing_values =  df.isnull().sum()\n",
        "print(missing_values)\n",
        "# duplicate values:\n",
        "duplicate_values = df.duplicated().sum()\n",
        "print(duplicate_values)"
      ],
      "metadata": {
        "colab": {
          "base_uri": "https://localhost:8080/"
        },
        "id": "WACa-EgyjEke",
        "outputId": "9265ac08-a55d-4e64-f815-2115d001984e"
      },
      "execution_count": 36,
      "outputs": [
        {
          "output_type": "stream",
          "name": "stdout",
          "text": [
            "Price        0\n",
            "Adj Close    0\n",
            "Close        0\n",
            "High         0\n",
            "Low          0\n",
            "Open         0\n",
            "Volume       0\n",
            "dtype: int64\n",
            "0\n"
          ]
        }
      ]
    },
    {
      "cell_type": "code",
      "source": [
        "# Cleaning the missing & duplicate values:\n",
        "#df_cleaning = df.drop(columns=[''])\n",
        "#df_cleaning.isnull().sum()"
      ],
      "metadata": {
        "id": "prl-TdfEknj_"
      },
      "execution_count": 38,
      "outputs": []
    },
    {
      "cell_type": "code",
      "source": [
        "# Visualization:\n",
        "\n",
        "plt.figure(figsize=(10, 6))\n",
        "sns.barplot(x=win)"
      ],
      "metadata": {
        "colab": {
          "base_uri": "https://localhost:8080/",
          "height": 52
        },
        "id": "d3Jp3TVQqNtp",
        "outputId": "b7d4f053-64f1-4294-dcaa-a0f0b7f70a2c"
      },
      "execution_count": 29,
      "outputs": [
        {
          "output_type": "execute_result",
          "data": {
            "text/plain": [
              "<Figure size 1000x600 with 0 Axes>"
            ]
          },
          "metadata": {},
          "execution_count": 29
        },
        {
          "output_type": "display_data",
          "data": {
            "text/plain": [
              "<Figure size 1000x600 with 0 Axes>"
            ]
          },
          "metadata": {}
        }
      ]
    },
    {
      "cell_type": "code",
      "source": [],
      "metadata": {
        "id": "5Bd-7EmjtB7G"
      },
      "execution_count": null,
      "outputs": []
    }
  ]
}