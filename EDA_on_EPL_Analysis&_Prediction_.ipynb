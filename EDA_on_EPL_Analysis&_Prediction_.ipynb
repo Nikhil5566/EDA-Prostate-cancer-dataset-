{
  "nbformat": 4,
  "nbformat_minor": 0,
  "metadata": {
    "colab": {
      "provenance": [],
      "authorship_tag": "ABX9TyM4m9PCbpZaMlxhqhWL9Jqx",
      "include_colab_link": true
    },
    "kernelspec": {
      "name": "python3",
      "display_name": "Python 3"
    },
    "language_info": {
      "name": "python"
    }
  },
  "cells": [
    {
      "cell_type": "markdown",
      "metadata": {
        "id": "view-in-github",
        "colab_type": "text"
      },
      "source": [
        "<a href=\"https://colab.research.google.com/github/Nikhil5566/EDA-Prostate-cancer-dataset-/blob/main/EDA_on_EPL_Analysis%26_Prediction_.ipynb\" target=\"_parent\"><img src=\"https://colab.research.google.com/assets/colab-badge.svg\" alt=\"Open In Colab\"/></a>"
      ]
    },
    {
      "cell_type": "code",
      "execution_count": 1,
      "metadata": {
        "id": "GfjE4-A7nXcz"
      },
      "outputs": [],
      "source": [
        "dataFile = './England CSV.csv'"
      ]
    },
    {
      "cell_type": "code",
      "source": [
        "import numpy as np\n",
        "import pandas as pd\n",
        "import matplotlib.pyplot as plt\n",
        "import seaborn as sns"
      ],
      "metadata": {
        "id": "8ChLpKktpOjP"
      },
      "execution_count": 13,
      "outputs": []
    },
    {
      "cell_type": "code",
      "source": [
        "df = pd.read_csv(dataFile)\n",
        "df.head()"
      ],
      "metadata": {
        "colab": {
          "base_uri": "https://localhost:8080/",
          "height": 340
        },
        "id": "BenJrBZKpWY_",
        "outputId": "d18e0c57-d0e8-4454-b5b1-c4be030186f1"
      },
      "execution_count": 8,
      "outputs": [
        {
          "output_type": "execute_result",
          "data": {
            "text/plain": [
              "         Date   Season      HomeTeam                AwayTeam  FTH Goals  \\\n",
              "0  16/01/2025  2024/25  Ipswich Town  Brighton & Hove Albion          0   \n",
              "1  16/01/2025  2024/25    Man United             Southampton          3   \n",
              "2  15/01/2025  2024/25       Everton             Aston Villa          0   \n",
              "3  15/01/2025  2024/25     Leicester          Crystal Palace          0   \n",
              "4  15/01/2025  2024/25     Newcastle                  Wolves          3   \n",
              "\n",
              "   FTA Goals FT Result  HTH Goals  HTA Goals HT Result  ... H Fouls  A Fouls  \\\n",
              "0          2         A        0.0        1.0         A  ...    13.0     14.0   \n",
              "1          1         H        0.0        1.0         A  ...     7.0     10.0   \n",
              "2          1         A        0.0        0.0         D  ...    17.0     10.0   \n",
              "3          2         A        0.0        0.0         D  ...     7.0      6.0   \n",
              "4          0         H        1.0        0.0         H  ...    10.0     13.0   \n",
              "\n",
              "   H Corners  A Corners  H Yellow  A Yellow  H Red  A Red  Display_Order  \\\n",
              "0        1.0        9.0       2.0       2.0    0.0    0.0       20250116   \n",
              "1        4.0        4.0       1.0       3.0    0.0    0.0       20250116   \n",
              "2        8.0        5.0       2.0       1.0    0.0    0.0       20250115   \n",
              "3        4.0        3.0       0.0       0.0    0.0    0.0       20250115   \n",
              "4        4.0        2.0       0.0       2.0    0.0    0.0       20250115   \n",
              "\n",
              "           League  \n",
              "0  Premier League  \n",
              "1  Premier League  \n",
              "2  Premier League  \n",
              "3  Premier League  \n",
              "4  Premier League  \n",
              "\n",
              "[5 rows x 25 columns]"
            ],
            "text/html": [
              "\n",
              "  <div id=\"df-b4dba653-6877-4408-a350-27c0a3e71296\" class=\"colab-df-container\">\n",
              "    <div>\n",
              "<style scoped>\n",
              "    .dataframe tbody tr th:only-of-type {\n",
              "        vertical-align: middle;\n",
              "    }\n",
              "\n",
              "    .dataframe tbody tr th {\n",
              "        vertical-align: top;\n",
              "    }\n",
              "\n",
              "    .dataframe thead th {\n",
              "        text-align: right;\n",
              "    }\n",
              "</style>\n",
              "<table border=\"1\" class=\"dataframe\">\n",
              "  <thead>\n",
              "    <tr style=\"text-align: right;\">\n",
              "      <th></th>\n",
              "      <th>Date</th>\n",
              "      <th>Season</th>\n",
              "      <th>HomeTeam</th>\n",
              "      <th>AwayTeam</th>\n",
              "      <th>FTH Goals</th>\n",
              "      <th>FTA Goals</th>\n",
              "      <th>FT Result</th>\n",
              "      <th>HTH Goals</th>\n",
              "      <th>HTA Goals</th>\n",
              "      <th>HT Result</th>\n",
              "      <th>...</th>\n",
              "      <th>H Fouls</th>\n",
              "      <th>A Fouls</th>\n",
              "      <th>H Corners</th>\n",
              "      <th>A Corners</th>\n",
              "      <th>H Yellow</th>\n",
              "      <th>A Yellow</th>\n",
              "      <th>H Red</th>\n",
              "      <th>A Red</th>\n",
              "      <th>Display_Order</th>\n",
              "      <th>League</th>\n",
              "    </tr>\n",
              "  </thead>\n",
              "  <tbody>\n",
              "    <tr>\n",
              "      <th>0</th>\n",
              "      <td>16/01/2025</td>\n",
              "      <td>2024/25</td>\n",
              "      <td>Ipswich Town</td>\n",
              "      <td>Brighton &amp; Hove Albion</td>\n",
              "      <td>0</td>\n",
              "      <td>2</td>\n",
              "      <td>A</td>\n",
              "      <td>0.0</td>\n",
              "      <td>1.0</td>\n",
              "      <td>A</td>\n",
              "      <td>...</td>\n",
              "      <td>13.0</td>\n",
              "      <td>14.0</td>\n",
              "      <td>1.0</td>\n",
              "      <td>9.0</td>\n",
              "      <td>2.0</td>\n",
              "      <td>2.0</td>\n",
              "      <td>0.0</td>\n",
              "      <td>0.0</td>\n",
              "      <td>20250116</td>\n",
              "      <td>Premier League</td>\n",
              "    </tr>\n",
              "    <tr>\n",
              "      <th>1</th>\n",
              "      <td>16/01/2025</td>\n",
              "      <td>2024/25</td>\n",
              "      <td>Man United</td>\n",
              "      <td>Southampton</td>\n",
              "      <td>3</td>\n",
              "      <td>1</td>\n",
              "      <td>H</td>\n",
              "      <td>0.0</td>\n",
              "      <td>1.0</td>\n",
              "      <td>A</td>\n",
              "      <td>...</td>\n",
              "      <td>7.0</td>\n",
              "      <td>10.0</td>\n",
              "      <td>4.0</td>\n",
              "      <td>4.0</td>\n",
              "      <td>1.0</td>\n",
              "      <td>3.0</td>\n",
              "      <td>0.0</td>\n",
              "      <td>0.0</td>\n",
              "      <td>20250116</td>\n",
              "      <td>Premier League</td>\n",
              "    </tr>\n",
              "    <tr>\n",
              "      <th>2</th>\n",
              "      <td>15/01/2025</td>\n",
              "      <td>2024/25</td>\n",
              "      <td>Everton</td>\n",
              "      <td>Aston Villa</td>\n",
              "      <td>0</td>\n",
              "      <td>1</td>\n",
              "      <td>A</td>\n",
              "      <td>0.0</td>\n",
              "      <td>0.0</td>\n",
              "      <td>D</td>\n",
              "      <td>...</td>\n",
              "      <td>17.0</td>\n",
              "      <td>10.0</td>\n",
              "      <td>8.0</td>\n",
              "      <td>5.0</td>\n",
              "      <td>2.0</td>\n",
              "      <td>1.0</td>\n",
              "      <td>0.0</td>\n",
              "      <td>0.0</td>\n",
              "      <td>20250115</td>\n",
              "      <td>Premier League</td>\n",
              "    </tr>\n",
              "    <tr>\n",
              "      <th>3</th>\n",
              "      <td>15/01/2025</td>\n",
              "      <td>2024/25</td>\n",
              "      <td>Leicester</td>\n",
              "      <td>Crystal Palace</td>\n",
              "      <td>0</td>\n",
              "      <td>2</td>\n",
              "      <td>A</td>\n",
              "      <td>0.0</td>\n",
              "      <td>0.0</td>\n",
              "      <td>D</td>\n",
              "      <td>...</td>\n",
              "      <td>7.0</td>\n",
              "      <td>6.0</td>\n",
              "      <td>4.0</td>\n",
              "      <td>3.0</td>\n",
              "      <td>0.0</td>\n",
              "      <td>0.0</td>\n",
              "      <td>0.0</td>\n",
              "      <td>0.0</td>\n",
              "      <td>20250115</td>\n",
              "      <td>Premier League</td>\n",
              "    </tr>\n",
              "    <tr>\n",
              "      <th>4</th>\n",
              "      <td>15/01/2025</td>\n",
              "      <td>2024/25</td>\n",
              "      <td>Newcastle</td>\n",
              "      <td>Wolves</td>\n",
              "      <td>3</td>\n",
              "      <td>0</td>\n",
              "      <td>H</td>\n",
              "      <td>1.0</td>\n",
              "      <td>0.0</td>\n",
              "      <td>H</td>\n",
              "      <td>...</td>\n",
              "      <td>10.0</td>\n",
              "      <td>13.0</td>\n",
              "      <td>4.0</td>\n",
              "      <td>2.0</td>\n",
              "      <td>0.0</td>\n",
              "      <td>2.0</td>\n",
              "      <td>0.0</td>\n",
              "      <td>0.0</td>\n",
              "      <td>20250115</td>\n",
              "      <td>Premier League</td>\n",
              "    </tr>\n",
              "  </tbody>\n",
              "</table>\n",
              "<p>5 rows × 25 columns</p>\n",
              "</div>\n",
              "    <div class=\"colab-df-buttons\">\n",
              "\n",
              "  <div class=\"colab-df-container\">\n",
              "    <button class=\"colab-df-convert\" onclick=\"convertToInteractive('df-b4dba653-6877-4408-a350-27c0a3e71296')\"\n",
              "            title=\"Convert this dataframe to an interactive table.\"\n",
              "            style=\"display:none;\">\n",
              "\n",
              "  <svg xmlns=\"http://www.w3.org/2000/svg\" height=\"24px\" viewBox=\"0 -960 960 960\">\n",
              "    <path d=\"M120-120v-720h720v720H120Zm60-500h600v-160H180v160Zm220 220h160v-160H400v160Zm0 220h160v-160H400v160ZM180-400h160v-160H180v160Zm440 0h160v-160H620v160ZM180-180h160v-160H180v160Zm440 0h160v-160H620v160Z\"/>\n",
              "  </svg>\n",
              "    </button>\n",
              "\n",
              "  <style>\n",
              "    .colab-df-container {\n",
              "      display:flex;\n",
              "      gap: 12px;\n",
              "    }\n",
              "\n",
              "    .colab-df-convert {\n",
              "      background-color: #E8F0FE;\n",
              "      border: none;\n",
              "      border-radius: 50%;\n",
              "      cursor: pointer;\n",
              "      display: none;\n",
              "      fill: #1967D2;\n",
              "      height: 32px;\n",
              "      padding: 0 0 0 0;\n",
              "      width: 32px;\n",
              "    }\n",
              "\n",
              "    .colab-df-convert:hover {\n",
              "      background-color: #E2EBFA;\n",
              "      box-shadow: 0px 1px 2px rgba(60, 64, 67, 0.3), 0px 1px 3px 1px rgba(60, 64, 67, 0.15);\n",
              "      fill: #174EA6;\n",
              "    }\n",
              "\n",
              "    .colab-df-buttons div {\n",
              "      margin-bottom: 4px;\n",
              "    }\n",
              "\n",
              "    [theme=dark] .colab-df-convert {\n",
              "      background-color: #3B4455;\n",
              "      fill: #D2E3FC;\n",
              "    }\n",
              "\n",
              "    [theme=dark] .colab-df-convert:hover {\n",
              "      background-color: #434B5C;\n",
              "      box-shadow: 0px 1px 3px 1px rgba(0, 0, 0, 0.15);\n",
              "      filter: drop-shadow(0px 1px 2px rgba(0, 0, 0, 0.3));\n",
              "      fill: #FFFFFF;\n",
              "    }\n",
              "  </style>\n",
              "\n",
              "    <script>\n",
              "      const buttonEl =\n",
              "        document.querySelector('#df-b4dba653-6877-4408-a350-27c0a3e71296 button.colab-df-convert');\n",
              "      buttonEl.style.display =\n",
              "        google.colab.kernel.accessAllowed ? 'block' : 'none';\n",
              "\n",
              "      async function convertToInteractive(key) {\n",
              "        const element = document.querySelector('#df-b4dba653-6877-4408-a350-27c0a3e71296');\n",
              "        const dataTable =\n",
              "          await google.colab.kernel.invokeFunction('convertToInteractive',\n",
              "                                                    [key], {});\n",
              "        if (!dataTable) return;\n",
              "\n",
              "        const docLinkHtml = 'Like what you see? Visit the ' +\n",
              "          '<a target=\"_blank\" href=https://colab.research.google.com/notebooks/data_table.ipynb>data table notebook</a>'\n",
              "          + ' to learn more about interactive tables.';\n",
              "        element.innerHTML = '';\n",
              "        dataTable['output_type'] = 'display_data';\n",
              "        await google.colab.output.renderOutput(dataTable, element);\n",
              "        const docLink = document.createElement('div');\n",
              "        docLink.innerHTML = docLinkHtml;\n",
              "        element.appendChild(docLink);\n",
              "      }\n",
              "    </script>\n",
              "  </div>\n",
              "\n",
              "\n",
              "<div id=\"df-618cd4db-f21e-4b3b-bdab-269a5511bf88\">\n",
              "  <button class=\"colab-df-quickchart\" onclick=\"quickchart('df-618cd4db-f21e-4b3b-bdab-269a5511bf88')\"\n",
              "            title=\"Suggest charts\"\n",
              "            style=\"display:none;\">\n",
              "\n",
              "<svg xmlns=\"http://www.w3.org/2000/svg\" height=\"24px\"viewBox=\"0 0 24 24\"\n",
              "     width=\"24px\">\n",
              "    <g>\n",
              "        <path d=\"M19 3H5c-1.1 0-2 .9-2 2v14c0 1.1.9 2 2 2h14c1.1 0 2-.9 2-2V5c0-1.1-.9-2-2-2zM9 17H7v-7h2v7zm4 0h-2V7h2v10zm4 0h-2v-4h2v4z\"/>\n",
              "    </g>\n",
              "</svg>\n",
              "  </button>\n",
              "\n",
              "<style>\n",
              "  .colab-df-quickchart {\n",
              "      --bg-color: #E8F0FE;\n",
              "      --fill-color: #1967D2;\n",
              "      --hover-bg-color: #E2EBFA;\n",
              "      --hover-fill-color: #174EA6;\n",
              "      --disabled-fill-color: #AAA;\n",
              "      --disabled-bg-color: #DDD;\n",
              "  }\n",
              "\n",
              "  [theme=dark] .colab-df-quickchart {\n",
              "      --bg-color: #3B4455;\n",
              "      --fill-color: #D2E3FC;\n",
              "      --hover-bg-color: #434B5C;\n",
              "      --hover-fill-color: #FFFFFF;\n",
              "      --disabled-bg-color: #3B4455;\n",
              "      --disabled-fill-color: #666;\n",
              "  }\n",
              "\n",
              "  .colab-df-quickchart {\n",
              "    background-color: var(--bg-color);\n",
              "    border: none;\n",
              "    border-radius: 50%;\n",
              "    cursor: pointer;\n",
              "    display: none;\n",
              "    fill: var(--fill-color);\n",
              "    height: 32px;\n",
              "    padding: 0;\n",
              "    width: 32px;\n",
              "  }\n",
              "\n",
              "  .colab-df-quickchart:hover {\n",
              "    background-color: var(--hover-bg-color);\n",
              "    box-shadow: 0 1px 2px rgba(60, 64, 67, 0.3), 0 1px 3px 1px rgba(60, 64, 67, 0.15);\n",
              "    fill: var(--button-hover-fill-color);\n",
              "  }\n",
              "\n",
              "  .colab-df-quickchart-complete:disabled,\n",
              "  .colab-df-quickchart-complete:disabled:hover {\n",
              "    background-color: var(--disabled-bg-color);\n",
              "    fill: var(--disabled-fill-color);\n",
              "    box-shadow: none;\n",
              "  }\n",
              "\n",
              "  .colab-df-spinner {\n",
              "    border: 2px solid var(--fill-color);\n",
              "    border-color: transparent;\n",
              "    border-bottom-color: var(--fill-color);\n",
              "    animation:\n",
              "      spin 1s steps(1) infinite;\n",
              "  }\n",
              "\n",
              "  @keyframes spin {\n",
              "    0% {\n",
              "      border-color: transparent;\n",
              "      border-bottom-color: var(--fill-color);\n",
              "      border-left-color: var(--fill-color);\n",
              "    }\n",
              "    20% {\n",
              "      border-color: transparent;\n",
              "      border-left-color: var(--fill-color);\n",
              "      border-top-color: var(--fill-color);\n",
              "    }\n",
              "    30% {\n",
              "      border-color: transparent;\n",
              "      border-left-color: var(--fill-color);\n",
              "      border-top-color: var(--fill-color);\n",
              "      border-right-color: var(--fill-color);\n",
              "    }\n",
              "    40% {\n",
              "      border-color: transparent;\n",
              "      border-right-color: var(--fill-color);\n",
              "      border-top-color: var(--fill-color);\n",
              "    }\n",
              "    60% {\n",
              "      border-color: transparent;\n",
              "      border-right-color: var(--fill-color);\n",
              "    }\n",
              "    80% {\n",
              "      border-color: transparent;\n",
              "      border-right-color: var(--fill-color);\n",
              "      border-bottom-color: var(--fill-color);\n",
              "    }\n",
              "    90% {\n",
              "      border-color: transparent;\n",
              "      border-bottom-color: var(--fill-color);\n",
              "    }\n",
              "  }\n",
              "</style>\n",
              "\n",
              "  <script>\n",
              "    async function quickchart(key) {\n",
              "      const quickchartButtonEl =\n",
              "        document.querySelector('#' + key + ' button');\n",
              "      quickchartButtonEl.disabled = true;  // To prevent multiple clicks.\n",
              "      quickchartButtonEl.classList.add('colab-df-spinner');\n",
              "      try {\n",
              "        const charts = await google.colab.kernel.invokeFunction(\n",
              "            'suggestCharts', [key], {});\n",
              "      } catch (error) {\n",
              "        console.error('Error during call to suggestCharts:', error);\n",
              "      }\n",
              "      quickchartButtonEl.classList.remove('colab-df-spinner');\n",
              "      quickchartButtonEl.classList.add('colab-df-quickchart-complete');\n",
              "    }\n",
              "    (() => {\n",
              "      let quickchartButtonEl =\n",
              "        document.querySelector('#df-618cd4db-f21e-4b3b-bdab-269a5511bf88 button');\n",
              "      quickchartButtonEl.style.display =\n",
              "        google.colab.kernel.accessAllowed ? 'block' : 'none';\n",
              "    })();\n",
              "  </script>\n",
              "</div>\n",
              "\n",
              "    </div>\n",
              "  </div>\n"
            ],
            "application/vnd.google.colaboratory.intrinsic+json": {
              "type": "dataframe",
              "variable_name": "df"
            }
          },
          "metadata": {},
          "execution_count": 8
        }
      ]
    },
    {
      "cell_type": "markdown",
      "source": [
        "1. **EDA**"
      ],
      "metadata": {
        "id": "FUajYpm8pz3V"
      }
    },
    {
      "cell_type": "code",
      "source": [
        "# Display the columns:\n",
        "\n",
        "print(df.columns)"
      ],
      "metadata": {
        "colab": {
          "base_uri": "https://localhost:8080/"
        },
        "id": "XWLGFM1GpYG3",
        "outputId": "8347e8f2-4134-46f3-beac-bc696e957468"
      },
      "execution_count": 11,
      "outputs": [
        {
          "output_type": "stream",
          "name": "stdout",
          "text": [
            "Index(['Date', 'Season', 'HomeTeam', 'AwayTeam', 'FTH Goals', 'FTA Goals',\n",
            "       'FT Result', 'HTH Goals', 'HTA Goals', 'HT Result', 'Referee',\n",
            "       'H Shots', 'A Shots', 'H SOT', 'A SOT', 'H Fouls', 'A Fouls',\n",
            "       'H Corners', 'A Corners', 'H Yellow', 'A Yellow', 'H Red', 'A Red',\n",
            "       'Display_Order', 'League'],\n",
            "      dtype='object')\n"
          ]
        }
      ]
    },
    {
      "cell_type": "code",
      "source": [
        "# Information of Dataset:\n",
        "\n",
        "df.info()"
      ],
      "metadata": {
        "colab": {
          "base_uri": "https://localhost:8080/"
        },
        "id": "7kwxaeOUp5bN",
        "outputId": "885c01e0-1257-4f97-f2ef-c7dc2a662fa5"
      },
      "execution_count": 12,
      "outputs": [
        {
          "output_type": "stream",
          "name": "stdout",
          "text": [
            "<class 'pandas.core.frame.DataFrame'>\n",
            "RangeIndex: 12153 entries, 0 to 12152\n",
            "Data columns (total 25 columns):\n",
            " #   Column         Non-Null Count  Dtype  \n",
            "---  ------         --------------  -----  \n",
            " 0   Date           12153 non-null  object \n",
            " 1   Season         12153 non-null  object \n",
            " 2   HomeTeam       12153 non-null  object \n",
            " 3   AwayTeam       12153 non-null  object \n",
            " 4   FTH Goals      12153 non-null  int64  \n",
            " 5   FTA Goals      12153 non-null  int64  \n",
            " 6   FT Result      12153 non-null  object \n",
            " 7   HTH Goals      11229 non-null  float64\n",
            " 8   HTA Goals      11229 non-null  float64\n",
            " 9   HT Result      11229 non-null  object \n",
            " 10  Referee        9329 non-null   object \n",
            " 11  H Shots        9329 non-null   float64\n",
            " 12  A Shots        9329 non-null   float64\n",
            " 13  H SOT          9329 non-null   float64\n",
            " 14  A SOT          9329 non-null   float64\n",
            " 15  H Fouls        9329 non-null   float64\n",
            " 16  A Fouls        9329 non-null   float64\n",
            " 17  H Corners      9329 non-null   float64\n",
            " 18  A Corners      9329 non-null   float64\n",
            " 19  H Yellow       9329 non-null   float64\n",
            " 20  A Yellow       9329 non-null   float64\n",
            " 21  H Red          9329 non-null   float64\n",
            " 22  A Red          9329 non-null   float64\n",
            " 23  Display_Order  12153 non-null  int64  \n",
            " 24  League         12153 non-null  object \n",
            "dtypes: float64(14), int64(3), object(8)\n",
            "memory usage: 2.3+ MB\n"
          ]
        }
      ]
    },
    {
      "cell_type": "code",
      "source": [
        "# Description of statistics:\n",
        "\n",
        "print(df.describe())"
      ],
      "metadata": {
        "colab": {
          "base_uri": "https://localhost:8080/"
        },
        "id": "368R9zC6qC6n",
        "outputId": "347641b7-1e14-41d8-ba1e-d0e61a3c1639"
      },
      "execution_count": 14,
      "outputs": [
        {
          "output_type": "stream",
          "name": "stdout",
          "text": [
            "          FTH Goals     FTA Goals     HTH Goals     HTA Goals      H Shots  \\\n",
            "count  12153.000000  12153.000000  11229.000000  11229.000000  9329.000000   \n",
            "mean       1.531309      1.160948      0.689554      0.511265    13.618716   \n",
            "std        1.306927      1.147714      0.838796      0.731610     5.349420   \n",
            "min        0.000000      0.000000      0.000000      0.000000     0.000000   \n",
            "25%        1.000000      0.000000      0.000000      0.000000    10.000000   \n",
            "50%        1.000000      1.000000      0.000000      0.000000    13.000000   \n",
            "75%        2.000000      2.000000      1.000000      1.000000    17.000000   \n",
            "max        9.000000      9.000000      5.000000      5.000000    43.000000   \n",
            "\n",
            "           A Shots        H SOT        A SOT      H Fouls      A Fouls  \\\n",
            "count  9329.000000  9329.000000  9329.000000  9329.000000  9329.000000   \n",
            "mean     10.784543     6.007503     4.704684    11.303462    11.781113   \n",
            "std       4.678710     3.275177     2.757288     3.752442     3.931377   \n",
            "min       0.000000     0.000000     0.000000     0.000000     1.000000   \n",
            "25%       7.000000     4.000000     3.000000     9.000000     9.000000   \n",
            "50%      10.000000     6.000000     4.000000    11.000000    12.000000   \n",
            "75%      14.000000     8.000000     6.000000    14.000000    14.000000   \n",
            "max      31.000000    24.000000    20.000000    33.000000    29.000000   \n",
            "\n",
            "         H Corners    A Corners     H Yellow     A Yellow        H Red  \\\n",
            "count  9329.000000  9329.000000  9329.000000  9329.000000  9329.000000   \n",
            "mean      6.056383     4.770715     1.462536     1.785722     0.062386   \n",
            "std       3.107327     2.746754     1.215747     1.285168     0.252706   \n",
            "min       0.000000     0.000000     0.000000     0.000000     0.000000   \n",
            "25%       4.000000     3.000000     1.000000     1.000000     0.000000   \n",
            "50%       6.000000     4.000000     1.000000     2.000000     0.000000   \n",
            "75%       8.000000     6.000000     2.000000     3.000000     0.000000   \n",
            "max      20.000000    19.000000     7.000000     9.000000     3.000000   \n",
            "\n",
            "             A Red  Display_Order  \n",
            "count  9329.000000   1.215300e+04  \n",
            "mean      0.085968   2.008629e+07  \n",
            "std       0.291579   9.224046e+04  \n",
            "min       0.000000   1.993081e+07  \n",
            "25%       0.000000   2.001010e+07  \n",
            "50%       0.000000   2.009012e+07  \n",
            "75%       0.000000   2.017012e+07  \n",
            "max       2.000000   2.025012e+07  \n"
          ]
        }
      ]
    },
    {
      "cell_type": "code",
      "source": [
        "# Display the rows the columns numbers:\n",
        "\n",
        "print(df.shape)"
      ],
      "metadata": {
        "colab": {
          "base_uri": "https://localhost:8080/"
        },
        "id": "tMMUeHFbqT5X",
        "outputId": "a19e19f5-233b-4d82-ff57-75805dedff2a"
      },
      "execution_count": 20,
      "outputs": [
        {
          "output_type": "stream",
          "name": "stdout",
          "text": [
            "(12153, 25)\n"
          ]
        }
      ]
    },
    {
      "cell_type": "code",
      "source": [
        "# Display the type of data:\n",
        "print(df.dtypes)"
      ],
      "metadata": {
        "colab": {
          "base_uri": "https://localhost:8080/"
        },
        "id": "N9vrBZiYqcOf",
        "outputId": "574cae4d-ff5d-4677-947b-b5e2c5b1db7d"
      },
      "execution_count": 21,
      "outputs": [
        {
          "output_type": "stream",
          "name": "stdout",
          "text": [
            "Date              object\n",
            "Season            object\n",
            "HomeTeam          object\n",
            "AwayTeam          object\n",
            "FTH Goals          int64\n",
            "FTA Goals          int64\n",
            "FT Result         object\n",
            "HTH Goals        float64\n",
            "HTA Goals        float64\n",
            "HT Result         object\n",
            "Referee           object\n",
            "H Shots          float64\n",
            "A Shots          float64\n",
            "H SOT            float64\n",
            "A SOT            float64\n",
            "H Fouls          float64\n",
            "A Fouls          float64\n",
            "H Corners        float64\n",
            "A Corners        float64\n",
            "H Yellow         float64\n",
            "A Yellow         float64\n",
            "H Red            float64\n",
            "A Red            float64\n",
            "Display_Order      int64\n",
            "League            object\n",
            "dtype: object\n"
          ]
        }
      ]
    },
    {
      "cell_type": "markdown",
      "source": [
        "2. **Data** **Preprocessing**"
      ],
      "metadata": {
        "id": "_fLdZDNfqh2_"
      }
    },
    {
      "cell_type": "markdown",
      "source": [
        "2.1 Checking for the missing & duplicate value"
      ],
      "metadata": {
        "id": "ZZ5r_bpisHGH"
      }
    },
    {
      "cell_type": "code",
      "source": [
        "# Checking for the missing values:\n",
        "missingValues = df.isnull().sum()\n",
        "print(missingValues)\n",
        "\n",
        "# Checking for the duplicate values:\n",
        "duplicateValues = df.duplicated().sum()\n",
        "print(duplicateValues)"
      ],
      "metadata": {
        "colab": {
          "base_uri": "https://localhost:8080/"
        },
        "id": "JUcVTPY9qfx2",
        "outputId": "eeb30fbf-689b-4116-ac14-a2237364d004"
      },
      "execution_count": 19,
      "outputs": [
        {
          "output_type": "stream",
          "name": "stdout",
          "text": [
            "Date                0\n",
            "Season              0\n",
            "HomeTeam            0\n",
            "AwayTeam            0\n",
            "FTH Goals           0\n",
            "FTA Goals           0\n",
            "FT Result           0\n",
            "HTH Goals         924\n",
            "HTA Goals         924\n",
            "HT Result         924\n",
            "Referee          2824\n",
            "H Shots          2824\n",
            "A Shots          2824\n",
            "H SOT            2824\n",
            "A SOT            2824\n",
            "H Fouls          2824\n",
            "A Fouls          2824\n",
            "H Corners        2824\n",
            "A Corners        2824\n",
            "H Yellow         2824\n",
            "A Yellow         2824\n",
            "H Red            2824\n",
            "A Red            2824\n",
            "Display_Order       0\n",
            "League              0\n",
            "dtype: int64\n",
            "0\n"
          ]
        }
      ]
    },
    {
      "cell_type": "markdown",
      "source": [
        "2.2 Cleaning the missing values"
      ],
      "metadata": {
        "id": "i9qygclQsTHe"
      }
    },
    {
      "cell_type": "code",
      "source": [
        "# Removing too many missing column values (referees and additional statistics)\n",
        "df_cleaning = df.drop(columns = ['Referee','H Shots','A Shots','H SOT','A SOT','H Fouls','A Fouls','H Corners','A Corners','H Yellow','A Yellow','H Red','A Red'])\n",
        "\n",
        "# Deleting rows that have empty values in important columns (HTH Goals, HTA Goals, HT Result)\n",
        "df_cleaning = df_cleaning.dropna(subset = ['HTH Goals','HTA Goals','HT Result'])\n",
        "\n",
        "# Double check wheather there are still missing values\n",
        "df_cleaning.isnull().sum()"
      ],
      "metadata": {
        "colab": {
          "base_uri": "https://localhost:8080/",
          "height": 460
        },
        "id": "1ussQFqHrt2H",
        "outputId": "183a06f6-c951-47a1-de06-8ccb584efab3"
      },
      "execution_count": 25,
      "outputs": [
        {
          "output_type": "execute_result",
          "data": {
            "text/plain": [
              "Date             0\n",
              "Season           0\n",
              "HomeTeam         0\n",
              "AwayTeam         0\n",
              "FTH Goals        0\n",
              "FTA Goals        0\n",
              "FT Result        0\n",
              "HTH Goals        0\n",
              "HTA Goals        0\n",
              "HT Result        0\n",
              "Display_Order    0\n",
              "League           0\n",
              "dtype: int64"
            ],
            "text/html": [
              "<div>\n",
              "<style scoped>\n",
              "    .dataframe tbody tr th:only-of-type {\n",
              "        vertical-align: middle;\n",
              "    }\n",
              "\n",
              "    .dataframe tbody tr th {\n",
              "        vertical-align: top;\n",
              "    }\n",
              "\n",
              "    .dataframe thead th {\n",
              "        text-align: right;\n",
              "    }\n",
              "</style>\n",
              "<table border=\"1\" class=\"dataframe\">\n",
              "  <thead>\n",
              "    <tr style=\"text-align: right;\">\n",
              "      <th></th>\n",
              "      <th>0</th>\n",
              "    </tr>\n",
              "  </thead>\n",
              "  <tbody>\n",
              "    <tr>\n",
              "      <th>Date</th>\n",
              "      <td>0</td>\n",
              "    </tr>\n",
              "    <tr>\n",
              "      <th>Season</th>\n",
              "      <td>0</td>\n",
              "    </tr>\n",
              "    <tr>\n",
              "      <th>HomeTeam</th>\n",
              "      <td>0</td>\n",
              "    </tr>\n",
              "    <tr>\n",
              "      <th>AwayTeam</th>\n",
              "      <td>0</td>\n",
              "    </tr>\n",
              "    <tr>\n",
              "      <th>FTH Goals</th>\n",
              "      <td>0</td>\n",
              "    </tr>\n",
              "    <tr>\n",
              "      <th>FTA Goals</th>\n",
              "      <td>0</td>\n",
              "    </tr>\n",
              "    <tr>\n",
              "      <th>FT Result</th>\n",
              "      <td>0</td>\n",
              "    </tr>\n",
              "    <tr>\n",
              "      <th>HTH Goals</th>\n",
              "      <td>0</td>\n",
              "    </tr>\n",
              "    <tr>\n",
              "      <th>HTA Goals</th>\n",
              "      <td>0</td>\n",
              "    </tr>\n",
              "    <tr>\n",
              "      <th>HT Result</th>\n",
              "      <td>0</td>\n",
              "    </tr>\n",
              "    <tr>\n",
              "      <th>Display_Order</th>\n",
              "      <td>0</td>\n",
              "    </tr>\n",
              "    <tr>\n",
              "      <th>League</th>\n",
              "      <td>0</td>\n",
              "    </tr>\n",
              "  </tbody>\n",
              "</table>\n",
              "</div><br><label><b>dtype:</b> int64</label>"
            ]
          },
          "metadata": {},
          "execution_count": 25
        }
      ]
    },
    {
      "cell_type": "markdown",
      "source": [
        "3. **Data Analyzing**"
      ],
      "metadata": {
        "id": "PFiPNc2dvLOK"
      }
    },
    {
      "cell_type": "code",
      "source": [
        "# Calculate the average number of goals per match:\n",
        "avg_goals = df_cleaning[['FTH Goals', 'FTA Goals']].mean()\n",
        "print(avg_goals)\n",
        "\n",
        "# Calculate the winning percentage of home, away and draw teams\n",
        "win_percentages = df_cleaning['FT Result'].value_counts(normalize=True) * 100\n",
        "print(win_percentages)"
      ],
      "metadata": {
        "colab": {
          "base_uri": "https://localhost:8080/"
        },
        "id": "wGc397OfugAx",
        "outputId": "c7b84e02-073b-4105-8de7-1439c30e921b"
      },
      "execution_count": 29,
      "outputs": [
        {
          "output_type": "stream",
          "name": "stdout",
          "text": [
            "FTH Goals    1.536201\n",
            "FTA Goals    1.164752\n",
            "dtype: float64\n",
            "FT Result\n",
            "H    46.005878\n",
            "A    28.773711\n",
            "D    25.220411\n",
            "Name: proportion, dtype: float64\n"
          ]
        }
      ]
    },
    {
      "cell_type": "code",
      "source": [],
      "metadata": {
        "id": "cNun4Xqhwk41"
      },
      "execution_count": null,
      "outputs": []
    }
  ]
}